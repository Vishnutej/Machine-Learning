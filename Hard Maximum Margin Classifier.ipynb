{
 "cells": [
  {
   "cell_type": "code",
   "execution_count": null,
   "metadata": {
    "collapsed": true
   },
   "outputs": [],
   "source": [
    "import numpy as np\n",
    "import pandas as pd\n",
    "import matplotlib.pyplot as plt\n",
    "import graphlab\n",
    "from sklearn import preprocessing\n",
    "from sklearn.preprocessing import scale\n",
    "from sklearn.svm import SVC\n",
    "from sklearn.cross_validation import train_test_split\n",
    "from sklearn.metrics import roc_curve, roc_auc_score\n",
    "dat= preprocessing.scale(data)\n",
    "\n",
    "data = pd.read_csv(\"C:\\Users\\Vishnutej\\Desktop\\creditCard.csv\")\n",
    "#data = preprocessing.scale(data)\n",
    "#print data.head()\n",
    "\n",
    "np.random.seed(seed=10)\n",
    "train,test=train_test_split(data,test_size=.1)\n",
    "\n",
    "#train=scale(train[0:9])\n",
    "#train=scale(train[['reports', 'age','income', 'owner', 'selfemp','dependent','months','majorcard','active','class']])\n",
    "#print(train[1])\n",
    "sv=SVC(kernel='linear',probability=True)\n",
    "sv.fit(train.iloc[:,0:],train.iloc[:,9])\n",
    "#sv.fit(train[0:9],train[0])\n",
    "\n",
    "hard_pred = sv.predict(test.iloc[:,0:])\n",
    "acc = np.isclose(hard_pred,test.iloc[:,9]).sum()/len(hard_pred)\n",
    "print(\"Accuracy: {}\".format(acc))\n",
    "\n",
    "#print(test.iloc[:,9])\n",
    "\n",
    "soft_pred = sv.predict_proba(test.iloc[:,0:])\n",
    "#print(soft_pred[:,1])\n",
    "fpr,tpr,thresh = roc_curve(test.iloc[:,9],soft_pred[:,1])\n",
    "auc = roc_auc_score(test.iloc[:,9],soft_pred[:,1])\n",
    "print(\"ROC Curve:\")\n",
    "\n",
    "plt.plot(fpr,tpr)\n",
    "plt.plot([0,1],[0,1],\"r--\",alpha=.5)\n",
    "plt.show()\n",
    "print(\"AUC: {}\".format(auc))"
   ]
  }
 ],
 "metadata": {
  "kernelspec": {
   "display_name": "Python 2",
   "language": "python",
   "name": "python2"
  },
  "language_info": {
   "codemirror_mode": {
    "name": "ipython",
    "version": 2
   },
   "file_extension": ".py",
   "mimetype": "text/x-python",
   "name": "python",
   "nbconvert_exporter": "python",
   "pygments_lexer": "ipython2",
   "version": "2.7.11"
  }
 },
 "nbformat": 4,
 "nbformat_minor": 0
}
