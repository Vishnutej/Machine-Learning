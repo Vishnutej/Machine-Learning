{
 "cells": [
  {
   "cell_type": "code",
   "execution_count": 1,
   "metadata": {},
   "outputs": [],
   "source": [
    "%matplotlib inline\n",
    "import numpy as np\n",
    "import pandas as pd\n",
    "import matplotlib.pyplot as plt\n",
    "from sklearn import preprocessing\n",
    "from sklearn.preprocessing import scale\n",
    "from sklearn.svm import SVC\n",
    "from sklearn.metrics import roc_curve, roc_auc_score\n",
    "#from sklearn.cross_validation import train_test_split\n",
    "from sklearn.model_selection import train_test_split\n",
    "from cvxopt import matrix, solvers\n",
    "from sklearn.preprocessing import Normalizer"
   ]
  },
  {
   "cell_type": "code",
   "execution_count": 347,
   "metadata": {},
   "outputs": [
    {
     "data": {
      "image/png": "[encoded data removed]",
      "text/plain": [
       "<matplotlib.figure.Figure at 0x284bf1a9eb8>"
      ]
     },
     "metadata": {},
     "output_type": "display_data"
    }
   ],
   "source": [
    "#Linearly Separable data from Homework 2\n",
    "\n",
    "import math\n",
    "l1=[]\n",
    "l2=[]\n",
    "#Create data\n",
    "l1.append([.75,.10])\n",
    "l1.append([.85,.80])\n",
    "l1.append([.85,.95])\n",
    "l1.append([.15,.10])\n",
    "l1.append([.05,.25])\n",
    "l1.append([.05,.50])\n",
    "l1.append([.85,.25])\n",
    "arr_train_x=np.array(l1)\n",
    "l2.append(-1)\n",
    "l2.append(-1)\n",
    "l2.append(1)\n",
    "l2.append(-1)\n",
    "l2.append(1)\n",
    "l2.append(1)\n",
    "l2.append(-1)\n",
    "arr_train_y=np.array(l2)\n",
    "lx=[]\n",
    "ly=[]\n",
    "for x in arr_train_x:\n",
    "    lx.append(x[0])\n",
    "    ly.append(x[1])\n",
    "plt.scatter(lx,ly)\n",
    "plt.show()"
   ]
  },
  {
   "cell_type": "code",
   "execution_count": 258,
   "metadata": {},
   "outputs": [
    {
     "data": {
      "image/png": "[encoded data removed]",
      "text/plain": [
       "<matplotlib.figure.Figure at 0x284bf3b76d8>"
      ]
     },
     "metadata": {},
     "output_type": "display_data"
    }
   ],
   "source": [
    "#Linearly Non separable data (XOR)\n",
    "import math\n",
    "l1=[]\n",
    "l2=[]\n",
    "#Create data\n",
    "l1.append([0.0,0.0])\n",
    "l1.append([0.0,1.0])\n",
    "l1.append([1.0,0.0])\n",
    "l1.append([1.0,1.0])\n",
    "ns_arr_train_x=np.array(l1)\n",
    "l2.append(-1)\n",
    "l2.append(1)\n",
    "l2.append(1)\n",
    "l2.append(-1)\n",
    "ns_arr_train_y=np.array(l2)\n",
    "lx=[]\n",
    "ly=[]\n",
    "for x in ns_arr_train_x:\n",
    "    lx.append(x[0])\n",
    "    ly.append(x[1])\n",
    "plt.scatter(lx,ly)\n",
    "plt.show()"
   ]
  },
  {
   "cell_type": "code",
   "execution_count": null,
   "metadata": {},
   "outputs": [],
   "source": []
  },
  {
   "cell_type": "code",
   "execution_count": null,
   "metadata": {},
   "outputs": [],
   "source": []
  },
  {
   "cell_type": "code",
   "execution_count": 388,
   "metadata": {},
   "outputs": [],
   "source": [
    "#Hard Margin SVM\n",
    "def train(X, Y):\n",
    "    K = Y[:, None] * X\n",
    "    K = np.dot(K, K.T)\n",
    "    P = matrix(K)\n",
    "    NUM =X.shape[0]\n",
    "    A = matrix(Y.reshape(1, -1).astype(float))\n",
    "    q = matrix(-np.ones((NUM, 1)))\n",
    "    G = matrix(-np.eye(NUM))\n",
    "    h = matrix(np.zeros(NUM))\n",
    "    \n",
    "    b = matrix(np.zeros(1))\n",
    "    #A=A.astype(double)\n",
    "\n",
    "    sol = solvers.qp(P, q, G, h, A, b)\n",
    "    #print(sol['x'])\n",
    "    #print(Y)\n",
    "    alpha=np.array(sol['x'])\n",
    "    lambdas=np.sum(alpha*Y.T[:,None]*X,axis=0)\n",
    "    #print(lambdas)\n",
    "    #print(alpha.shape)\n",
    "    #bias=1-min(np.dot(X,lambdas))\n",
    "    \n",
    "    support_vectors=(alpha>1e-5).reshape(-1)\n",
    "    #print(cond)\n",
    "    #print(np.dot(X[cond],lambdas))\n",
    "    b=Y[support_vectors]-(np.dot(X[support_vectors],lambdas))\n",
    "    #print(\"bias\")\n",
    "    #print(bias)\n",
    "    bias=b[0]\n",
    "    #print(bias)\n",
    "    print(\"bias\"+str(bias))\n",
    "    print(\"lambdas\"+str(lambdas))\n",
    "    #print(\"alphas\"+str(alpha))\n",
    "    #for i in range(len(X)):\n",
    "    #    print(str(np.dot(lambdas,X[i]))+\" \"+str(Y[i]))\n",
    "        \n",
    "    lx=[]\n",
    "    ly=[]\n",
    "    for x in X:\n",
    "        lx.append(x[0])\n",
    "        ly.append(x[1])\n",
    "    plt.scatter(lx,ly)\n",
    "    #slope=-lambdas[0]/lambdas[1]\n",
    "    #intercept=-bias[0]/lambdas[1]\n",
    "    #x = np.arange(0, 1,step=0.1)\n",
    "    #ax.plot(x, x * slope + intercept, 'k-')\n",
    "    #plt.show()\n",
    "    for i in range(len(X)):\n",
    "        #print(np.sign(arr_train_y[i]*((np.dot(arr_train_x[i],lambdas))+bias))!=np.sign(ns_arr_train_y[i]))\n",
    "        #print(X[i])\n",
    "        #print(np.dot(X[i],lambdas)+bias)\n",
    "        #print(Y[i])\n",
    "        if(int(np.sign(np.dot(X[i],lambdas)+bias))!=int(np.sign(Y[i]))): \n",
    "            print(\"Not linearly separable\")\n",
    "            break\n",
    "    return (alpha,bias,lambdas)    \n",
    "    \"\"\"for i in range(len(X)):\n",
    "        #print(np.sign(arr_train_y[i]*((np.dot(arr_train_x[i],lambdas))+bias))!=np.sign(ns_arr_train_y[i]))\n",
    "        if(((ns_arr_train_y[i]*(np.dot(ns_arr_train_x[i],lambdas)+bias)<1 and ns_arr_train_y[i])>1) or\n",
    "           ((ns_arr_train_y[i]*(np.dot(ns_arr_train_x[i],lambdas)+bias)>1 and ns_arr_train_y[i])<1)):\n",
    "            print(\"Not linearly separable\")\n",
    "            break\n",
    "        print(arr_train_y[i]*((np.dot(arr_train_x[i],lambdas))+bias))\"\"\"\n",
    "def predict(alpha,bias, lambdas,data):\n",
    "    return np.sign(np.dot(lambdas,data)+bias)"
   ]
  },
  {
   "cell_type": "code",
   "execution_count": 389,
   "metadata": {},
   "outputs": [
    {
     "name": "stdout",
     "output_type": "stream",
     "text": [
      "bias-1.74999998425\n",
      "lambdas[-11.66666641  13.33333305]\n",
      "PREDICTION=-1.0\n"
     ]
    },
    {
     "data": {
      "image/png": "[encoded data removed]",
      "text/plain": [
       "<matplotlib.figure.Figure at 0x284c05436a0>"
      ]
     },
     "metadata": {},
     "output_type": "display_data"
    }
   ],
   "source": [
    "#Check for Linearly Separable Data\n",
    "(alpha,bias,lambdas)=train(arr_train_x,arr_train_y)\n",
    "arr_test_x=[0.6,0.2]\n",
    "prediction=predict(alpha, bias, lambdas,arr_test_x)\n",
    "print(\"PREDICTION=\"+str(prediction))"
   ]
  },
  {
   "cell_type": "code",
   "execution_count": 390,
   "metadata": {},
   "outputs": [
    {
     "name": "stdout",
     "output_type": "stream",
     "text": [
      "bias-1.0\n",
      "lambdas[ 0.  0.]\n",
      "Not linearly separable\n"
     ]
    },
    {
     "data": {
      "image/png": "[encoded data removed]",
      "text/plain": [
       "<matplotlib.figure.Figure at 0x284bf347d68>"
      ]
     },
     "metadata": {},
     "output_type": "display_data"
    }
   ],
   "source": [
    "#Check for Linearly Non Separable Data\n",
    "alpha=train(ns_arr_train_x,ns_arr_train_y)"
   ]
  },
  {
   "cell_type": "code",
   "execution_count": 368,
   "metadata": {},
   "outputs": [
    {
     "name": "stdout",
     "output_type": "stream",
     "text": [
      "Accuracy: 0.7727272727272727\n",
      "ROC Curve:\n"
     ]
    },
    {
     "data": {
      "image/png": "[encoded data removed]",
      "text/plain": [
       "<matplotlib.figure.Figure at 0x284bee7a4a8>"
      ]
     },
     "metadata": {},
     "output_type": "display_data"
    },
    {
     "name": "stdout",
     "output_type": "stream",
     "text": [
      "AUC: 0.8428453267162944\n"
     ]
    }
   ],
   "source": [
    "#4(b)  - Linear Kernel\n",
    "from matplotlib.colors import ListedColormap\n",
    "data = pd.read_csv(\"C:\\\\Users\\\\Vishnutej\\\\Desktop\\\\ML 2018\\\\HW4\\\\creditCard.csv\")\n",
    "#data = preprocessing.scale(data)\n",
    "#print(data.head())\n",
    "#print(data.shape)\n",
    "\n",
    "#np.random.seed(seed=2018)\n",
    "data0=preprocessing.scale(data.iloc[:,0:9])\n",
    "data1=preprocessing.normalize(data0)#.iloc[:,0:9])\n",
    "data2=pd.DataFrame(data1)\n",
    "#print(data2.shape)\n",
    "#print(data.iloc[:-1].shape)\n",
    "data3=pd.DataFrame(data.iloc[:,-1])\n",
    "#print(data3.shape)\n",
    "#d=data2.join(data3)\n",
    "d = pd.concat([data2, data3], axis=1)\n",
    "#print(d.shape)\n",
    "dat=pd.DataFrame(d)\n",
    "\n",
    "train,test=train_test_split(dat,test_size=.1,random_state=2018,shuffle=False)\n",
    "sv=SVC(kernel='linear',probability=True)\n",
    "\n",
    "sv.fit(train.iloc[:,0:9],train.iloc[:,-1])\n",
    "\n",
    "hard_pred = sv.predict(test.iloc[:,0:9])\n",
    "#print(hard_pred)\n",
    "#print(test.iloc[:,9])\n",
    "acc = np.isclose(hard_pred,test.iloc[:,-1]).sum()/len(hard_pred)\n",
    "print(\"Accuracy: {}\".format(acc))\n",
    "\n",
    "#print(test.iloc[:,9])\n",
    "\n",
    "soft_pred = sv.predict_proba(test.iloc[:,0:9])\n",
    "#print(soft_pred)\n",
    "fpr,tpr,thresh = roc_curve(test.iloc[:,-1],soft_pred[:,1])\n",
    "auc = roc_auc_score(test.iloc[:,-1],soft_pred[:,1])\n",
    "print(\"ROC Curve:\")\n",
    "\n",
    "plt.plot(fpr,tpr)\n",
    "plt.plot([0,1],[0,1],\"r--\",alpha=.5)\n",
    "plt.show()\n",
    "print(\"AUC: {}\".format(auc))\n"
   ]
  },
  {
   "cell_type": "code",
   "execution_count": 371,
   "metadata": {},
   "outputs": [
    {
     "name": "stdout",
     "output_type": "stream",
     "text": [
      "Accuracy: 0.7727272727272727\n",
      "ROC Curve:\n"
     ]
    },
    {
     "data": {
      "image/png": "[encoded data removed]",
      "text/plain": [
       "<matplotlib.figure.Figure at 0x284bf1778d0>"
      ]
     },
     "metadata": {},
     "output_type": "display_data"
    },
    {
     "name": "stdout",
     "output_type": "stream",
     "text": [
      "AUC: 0.8329197684036393\n"
     ]
    }
   ],
   "source": [
    "#4(c) - RBF with sigma squared = 5\n",
    "data = pd.read_csv(\"C:\\\\Users\\\\Vishnutej\\\\Desktop\\\\ML 2018\\\\HW4\\\\creditCard.csv\")\n",
    "#data = preprocessing.scale(data)\n",
    "#print data.head()\n",
    "#print(data.shape)\n",
    "\n",
    "#np.random.seed(seed=2018)\n",
    "data0=preprocessing.scale(data.iloc[:,0:9])\n",
    "data1=preprocessing.normalize(data0)#.iloc[:,0:9])\n",
    "data2=pd.DataFrame(data1)\n",
    "#print(data2.shape)\n",
    "#print(data.iloc[:-1].shape)\n",
    "data3=pd.DataFrame(data.iloc[:,-1])\n",
    "#print(data3.shape)\n",
    "#d=data2.join(data3)\n",
    "d = pd.concat([data2, data3], axis=1)\n",
    "#print(d.shape)\n",
    "dat=pd.DataFrame(d)\n",
    "#trainX=pd.DataFrame(trainX)\n",
    "train,test=train_test_split(dat,test_size=.1,random_state=2018,shuffle=False)\n",
    "sv1=SVC(kernel='rbf',gamma=0.2,probability=True)\n",
    "sv1.fit(train.iloc[:,0:9],train.iloc[:,-1])\n",
    "\n",
    "hard_pred = sv1.predict(test.iloc[:,0:9])\n",
    "#print(hard_pred)\n",
    "#print(test.iloc[:,9])\n",
    "acc = np.isclose(hard_pred,test.iloc[:,-1]).sum()/len(hard_pred)\n",
    "print(\"Accuracy: {}\".format(acc))\n",
    "\n",
    "#print(test.iloc[:,9])\n",
    "\n",
    "soft_pred = sv1.predict_proba(test.iloc[:,0:9])\n",
    "#print(soft_pred)\n",
    "fpr,tpr,thresh = roc_curve(test.iloc[:,-1],soft_pred[:,1])\n",
    "auc = roc_auc_score(test.iloc[:,-1],soft_pred[:,1])\n",
    "print(\"ROC Curve:\")\n",
    "\n",
    "plt.plot(fpr,tpr)\n",
    "plt.plot([0,1],[0,1],\"r--\",alpha=.5)\n",
    "plt.show()\n",
    "print(\"AUC: {}\".format(auc))"
   ]
  },
  {
   "cell_type": "code",
   "execution_count": 375,
   "metadata": {},
   "outputs": [
    {
     "name": "stdout",
     "output_type": "stream",
     "text": [
      "Accuracy: 0.7803030303030303\n",
      "ROC Curve:\n"
     ]
    },
    {
     "data": {
      "image/png": "[encoded data removed]",
      "text/plain": [
       "<matplotlib.figure.Figure at 0x284bf200048>"
      ]
     },
     "metadata": {},
     "output_type": "display_data"
    },
    {
     "name": "stdout",
     "output_type": "stream",
     "text": [
      "AUC: 0.8100358422939068\n"
     ]
    }
   ],
   "source": [
    "#4(c) - RBF with sigma squared = 25\n",
    "data = pd.read_csv(\"C:\\\\Users\\\\Vishnutej\\\\Desktop\\\\ML 2018\\\\HW4\\\\creditCard.csv\")\n",
    "#data = preprocessing.scale(data)\n",
    "#print data.head()\n",
    "#print(data.shape)\n",
    "\n",
    "#np.random.seed(seed=2018)\n",
    "data0=preprocessing.scale(data.iloc[:,0:9])\n",
    "#min_max_scaler = preprocessing.MinMaxScaler()\n",
    "#data0 = min_max_scaler.fit_transform(data00)\n",
    "data1=preprocessing.normalize(data0)#.iloc[:,0:9])\n",
    "data2=pd.DataFrame(data1)\n",
    "#print(data2.shape)\n",
    "#print(data.iloc[:-1].shape)\n",
    "data3=pd.DataFrame(data.iloc[:,-1])\n",
    "#print(data3.shape)\n",
    "#d=data2.join(data3)\n",
    "d = pd.concat([data2, data3], axis=1)\n",
    "#print(d.shape)\n",
    "dat=pd.DataFrame(d)\n",
    "#trainX=pd.DataFrame(trainX)\n",
    "train,test=train_test_split(dat,test_size=0.1,random_state=2018,shuffle=False)\n",
    "sv2=SVC(kernel='rbf',gamma= 0.04,probability=True)\n",
    "sv2.fit(train.iloc[:,0:9],train.iloc[:,-1])\n",
    "\n",
    "hard_pred = sv2.predict(test.iloc[:,0:9])\n",
    "#print(hard_pred)\n",
    "#print(test.iloc[:,9])\n",
    "acc = np.isclose(hard_pred,test.iloc[:,-1]).sum()/len(hard_pred)\n",
    "print(\"Accuracy: {}\".format(acc))\n",
    "\n",
    "#print(hard_pred)\n",
    "\n",
    "soft_pred = sv2.predict_proba(test.iloc[:,0:9])\n",
    "#print(soft_pred)\n",
    "fpr,tpr,thresh = roc_curve(test.iloc[:,-1],soft_pred[:,1])\n",
    "auc = roc_auc_score(test.iloc[:,-1],soft_pred[:,1])\n",
    "print(\"ROC Curve:\")\n",
    "\n",
    "plt.plot(fpr,tpr)\n",
    "plt.plot([0,1],[0,1],\"r--\",alpha=.5)\n",
    "plt.show()\n",
    "print(\"AUC: {}\".format(auc))"
   ]
  },
  {
   "cell_type": "code",
   "execution_count": 374,
   "metadata": {},
   "outputs": [],
   "source": [
    "\n"
   ]
  },
  {
   "cell_type": "code",
   "execution_count": null,
   "metadata": {},
   "outputs": [],
   "source": []
  }
 ],
 "metadata": {
  "kernelspec": {
   "display_name": "Python 3",
   "language": "python",
   "name": "python3"
  },
  "language_info": {
   "codemirror_mode": {
    "name": "ipython",
    "version": 3
   },
   "file_extension": ".py",
   "mimetype": "text/x-python",
   "name": "python",
   "nbconvert_exporter": "python",
   "pygments_lexer": "ipython3",
   "version": "3.5.4"
  }
 },
 "nbformat": 4,
 "nbformat_minor": 1
}
