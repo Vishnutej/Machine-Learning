{
 "cells": [
  {
   "cell_type": "markdown",
   "metadata": {},
   "source": [
    "# Classifier Demonstration"
   ]
  },
  {
   "cell_type": "code",
   "execution_count": 162,
   "metadata": {},
   "outputs": [],
   "source": [
    "%matplotlib inline\n",
    "\n",
    "import pandas as pd\n",
    "import numpy as np\n",
    "from matplotlib import pyplot as plt\n",
    "from sklearn.linear_model import LogisticRegression\n",
    "from sklearn.svm import SVC\n",
    "from sklearn.tree import DecisionTreeClassifier\n",
    "from sklearn.ensemble import RandomForestClassifier, GradientBoostingClassifier\n",
    "from sklearn.cross_validation import train_test_split\n",
    "from sklearn.metrics import roc_curve, roc_auc_score"
   ]
  },
  {
   "cell_type": "code",
   "execution_count": 163,
   "metadata": {},
   "outputs": [
    {
     "name": "stdout",
     "output_type": "stream",
     "text": [
      "   Age  Year  Nodes  Status\n",
      "0   30    64      1       0\n",
      "1   30    62      3       0\n",
      "2   30    65      0       0\n",
      "3   31    59      2       0\n",
      "4   31    65      4       0\n"
     ]
    }
   ],
   "source": [
    "# load credit card data from website\n",
    "bad_data = pd.read_csv('https://archive.ics.uci.edu/ml/machine-learning-databases/00267/data_banknote_authentication.txt')\n",
    "\n",
    "# data munging to get it into nice csv format\n",
    "#parsed_entries = [[e for e in row.split()] for row in bad_data.iloc[2:,0]]\n",
    "#all_entries = []\n",
    "#for r in parsed_entries:\n",
    "#    all_entries.extend(r)\n",
    "#all_entries = np.array(all_entries).reshape((1319,13))\n",
    "#rows = [\",\".join(r) for r in all_entries]\n",
    "#s = \"\\n\".join(rows)\n",
    "#titles = \"Variance,Skewness,Curtosis,Entropy,Classes\\n\"\n",
    "\n",
    "# save nice data\n",
    "#with open(\"bankdetails.csv\",\"w\") as f:\n",
    "#    f.write(titles)\n",
    "#    f.write(s)\n",
    "    \n",
    "# load data into pandas dataframe\n",
    "data = pd.read_csv(\"haberman.csv\",\n",
    "                  dtype = {\"Age\":np.int,\n",
    "                           \"Year\":np.int,\n",
    "                           \"Nodes\":np.int,\n",
    "                           \"Status\":np.int})\n",
    "\n",
    "# let's take a quick look at the data\n",
    "print(data.head())\n",
    "\n",
    "# set rng seed for reproducibility\n",
    "np.random.seed(seed=1337)\n",
    "\n",
    "# randomly partition data into train (80%) and test (20%) sets\n",
    "train,test = train_test_split(data, test_size=.2)"
   ]
  },
  {
   "cell_type": "code",
   "execution_count": 164,
   "metadata": {},
   "outputs": [
    {
     "name": "stdout",
     "output_type": "stream",
     "text": [
      "Accuracy: 0\n",
      "ROC Curve:\n"
     ]
    },
    {
     "data": {
      "image/png": "[encoded data removed]",
      "text/plain": [
       "<matplotlib.figure.Figure at 0xdd97550>"
      ]
     },
     "metadata": {},
     "output_type": "display_data"
    },
    {
     "name": "stdout",
     "output_type": "stream",
     "text": [
      "AUC: 0.5\n"
     ]
    }
   ],
   "source": [
    "# DECISION TREE\n",
    "dt = DecisionTreeClassifier()\n",
    "#print(train.iloc[:,0:])\n",
    "#print(train.iloc[:,3])\n",
    "# train the model\n",
    "dt.fit(train.iloc[:,1:],train.iloc[:,0])\n",
    "\n",
    "# predict the labels and report accuracy\n",
    "hard_pred = dt.predict(test.iloc[:,1:])\n",
    "acc = np.isclose(hard_pred,test.iloc[:,0]).sum()/len(hard_pred)\n",
    "print(\"Accuracy: {}\".format(acc))\n",
    "\n",
    "# use predicted probabilities to construct ROC curve and AUC score\n",
    "soft_pred = dt.predict_proba(test.iloc[:,1:])\n",
    "#print(soft_pred)\n",
    "fpr,tpr,thresh = roc_curve(test.iloc[:,3],soft_pred[:,1])\n",
    "auc = roc_auc_score(test.iloc[:,3],soft_pred[:,1])\n",
    "print(\"ROC Curve:\")\n",
    "plt.plot(fpr,tpr)\n",
    "plt.plot([0,1],[0,1],\"r--\",alpha=.5)\n",
    "plt.show()\n",
    "print(\"AUC: {}\".format(auc))"
   ]
  },
  {
   "cell_type": "code",
   "execution_count": 165,
   "metadata": {},
   "outputs": [
    {
     "name": "stdout",
     "output_type": "stream",
     "text": [
      "Accuracy: 0\n",
      "ROC Curve:\n"
     ]
    },
    {
     "data": {
      "image/png": "[encoded data removed]",
      "text/plain": [
       "<matplotlib.figure.Figure at 0xd7824e0>"
      ]
     },
     "metadata": {},
     "output_type": "display_data"
    },
    {
     "name": "stdout",
     "output_type": "stream",
     "text": [
      "AUC: 0.46511627907\n"
     ]
    }
   ],
   "source": [
    "# RANDOM FOREST\n",
    "rf = RandomForestClassifier()\n",
    "\n",
    "# train the model\n",
    "rf.fit(train.iloc[:,1:],train.iloc[:,0])\n",
    "\n",
    "# predict the labels and report accuracy\n",
    "hard_pred = rf.predict(test.iloc[:,1:])\n",
    "acc = np.isclose(hard_pred,test.iloc[:,0]).sum()/len(hard_pred)\n",
    "print(\"Accuracy: {}\".format(acc))\n",
    "\n",
    "# use predicted probabilities to construct ROC curve and AUC score\n",
    "soft_pred = rf.predict_proba(test.iloc[:,1:])\n",
    "fpr,tpr,thresh = roc_curve(test.iloc[:,3],soft_pred[:,1])\n",
    "auc = roc_auc_score(test.iloc[:,3],soft_pred[:,1])\n",
    "print(\"ROC Curve:\")\n",
    "plt.plot(fpr,tpr)\n",
    "plt.plot([0,1],[0,1],\"r--\",alpha=.5)\n",
    "plt.show()\n",
    "print(\"AUC: {}\".format(auc))"
   ]
  },
  {
   "cell_type": "code",
   "execution_count": 166,
   "metadata": {},
   "outputs": [
    {
     "name": "stdout",
     "output_type": "stream",
     "text": [
      "Accuracy: 0\n",
      "ROC Curve:\n"
     ]
    },
    {
     "data": {
      "image/png": "[encoded data removed]",
      "text/plain": [
       "<matplotlib.figure.Figure at 0xddd05f8>"
      ]
     },
     "metadata": {},
     "output_type": "display_data"
    },
    {
     "name": "stdout",
     "output_type": "stream",
     "text": [
      "AUC: 0.187270501836\n"
     ]
    }
   ],
   "source": [
    "# GRADIENT BOOSTED TREES\n",
    "gb = GradientBoostingClassifier()\n",
    "\n",
    "# train the model\n",
    "gb.fit(train.iloc[:,1:],train.iloc[:,0])\n",
    "\n",
    "# predict the labels and report accuracy\n",
    "hard_pred = gb.predict(test.iloc[:,1:])\n",
    "acc = np.isclose(hard_pred,test.iloc[:,0]).sum()/len(hard_pred)\n",
    "print(\"Accuracy: {}\".format(acc))\n",
    "\n",
    "# use predicted probabilities to construct ROC curve and AUC score\n",
    "soft_pred = gb.predict_proba(test.iloc[:,1:])\n",
    "fpr,tpr,thresh = roc_curve(test.iloc[:,3],soft_pred[:,1])\n",
    "auc = roc_auc_score(test.iloc[:,3],soft_pred[:,1])\n",
    "print(\"ROC Curve:\")\n",
    "plt.plot(fpr,tpr)\n",
    "plt.plot([0,1],[0,1],\"r--\",alpha=.5)\n",
    "plt.show()\n",
    "print(\"AUC: {}\".format(auc))"
   ]
  },
  {
   "cell_type": "code",
   "execution_count": 167,
   "metadata": {},
   "outputs": [
    {
     "name": "stdout",
     "output_type": "stream",
     "text": [
      "Accuracy: 0\n",
      "ROC Curve:\n"
     ]
    },
    {
     "data": {
      "image/png": "[encoded data removed]",
      "text/plain": [
       "<matplotlib.figure.Figure at 0xdad1198>"
      ]
     },
     "metadata": {},
     "output_type": "display_data"
    },
    {
     "name": "stdout",
     "output_type": "stream",
     "text": [
      "AUC: 0.00856793145655\n"
     ]
    }
   ],
   "source": [
    "# LOGISTIC REGRESSION\n",
    "# initialize a logistric regression object\n",
    "lr = LogisticRegression()\n",
    "\n",
    "# train the model\n",
    "lr.fit(train.iloc[:,1:],train.iloc[:,0])\n",
    "\n",
    "# predict the labels and report accuracy\n",
    "hard_pred = lr.predict(test.iloc[:,1:])\n",
    "acc = np.isclose(hard_pred,test.iloc[:,0]).sum()/len(hard_pred)\n",
    "print(\"Accuracy: {}\".format(acc))\n",
    "\n",
    "# use predicted probabilities to construct ROC curve and AUC score\n",
    "soft_pred = lr.predict_proba(test.iloc[:,1:])\n",
    "fpr,tpr,thresh = roc_curve(test.iloc[:,3],soft_pred[:,1])\n",
    "auc = roc_auc_score(test.iloc[:,3],soft_pred[:,1])\n",
    "print(\"ROC Curve:\")\n",
    "plt.plot(fpr,tpr)\n",
    "plt.plot([0,1],[0,1],\"r--\",alpha=.5)\n",
    "plt.show()\n",
    "print(\"AUC: {}\".format(auc))"
   ]
  },
  {
   "cell_type": "code",
   "execution_count": 168,
   "metadata": {},
   "outputs": [
    {
     "name": "stdout",
     "output_type": "stream",
     "text": [
      "Accuracy: 0\n",
      "ROC Curve:\n"
     ]
    },
    {
     "data": {
      "image/png": "[encoded data removed]",
      "text/plain": [
       "<matplotlib.figure.Figure at 0xd718c18>"
      ]
     },
     "metadata": {},
     "output_type": "display_data"
    },
    {
     "name": "stdout",
     "output_type": "stream",
     "text": [
      "AUC: 0.225214198286\n"
     ]
    }
   ],
   "source": [
    "# SUPPORT VECTOR MACHINE\n",
    "sv = SVC(probability=True)\n",
    "\n",
    "# train the model\n",
    "sv.fit(train.iloc[:,1:],train.iloc[:,0])\n",
    "\n",
    "# predict the labels and report accuracy\n",
    "hard_pred = sv.predict(test.iloc[:,1:])\n",
    "acc = np.isclose(hard_pred,test.iloc[:,0]).sum()/len(hard_pred)\n",
    "print(\"Accuracy: {}\".format(acc))\n",
    "\n",
    "# use predicted probabilities to construct ROC curve and AUC score\n",
    "soft_pred = sv.predict_proba(test.iloc[:,1:])\n",
    "fpr,tpr,thresh = roc_curve(test.iloc[:,3],soft_pred[:,1])\n",
    "auc = roc_auc_score(test.iloc[:,3],soft_pred[:,1])\n",
    "print(\"ROC Curve:\")\n",
    "plt.plot(fpr,tpr)\n",
    "plt.plot([0,1],[0,1],\"r--\",alpha=.5)\n",
    "plt.show()\n",
    "print(\"AUC: {}\".format(auc))"
   ]
  }
 ],
 "metadata": {
  "anaconda-cloud": {},
  "kernelspec": {
   "display_name": "Python 2",
   "language": "python",
   "name": "python2"
  },
  "language_info": {
   "codemirror_mode": {
    "name": "ipython",
    "version": 2
   },
   "file_extension": ".py",
   "mimetype": "text/x-python",
   "name": "python",
   "nbconvert_exporter": "python",
   "pygments_lexer": "ipython2",
   "version": "2.7.13"
  }
 },
 "nbformat": 4,
 "nbformat_minor": 1
}
